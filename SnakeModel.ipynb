{
  "nbformat": 4,
  "nbformat_minor": 0,
  "metadata": {
    "kernelspec": {
      "display_name": "Python 3",
      "language": "python",
      "name": "python3"
    },
    "language_info": {
      "codemirror_mode": {
        "name": "ipython",
        "version": 3
      },
      "file_extension": ".py",
      "mimetype": "text/x-python",
      "name": "python",
      "nbconvert_exporter": "python",
      "pygments_lexer": "ipython3",
      "version": "3.8.5"
    },
    "colab": {
      "name": "SnakeModel.ipynb",
      "provenance": [],
      "collapsed_sections": [],
      "include_colab_link": true
    },
    "accelerator": "GPU"
  },
  "cells": [
    {
      "cell_type": "markdown",
      "metadata": {
        "id": "view-in-github",
        "colab_type": "text"
      },
      "source": [
        "<a href=\"https://colab.research.google.com/github/jakesnakelou/Computer-Vision/blob/convolution_attempt.ipynb/SnakeModel.ipynb\" target=\"_parent\"><img src=\"https://colab.research.google.com/assets/colab-badge.svg\" alt=\"Open In Colab\"/></a>"
      ]
    },
    {
      "cell_type": "code",
      "metadata": {
        "id": "tERCcG4gpTik"
      },
      "source": [
        "data.keys()"
      ],
      "execution_count": null,
      "outputs": []
    },
    {
      "cell_type": "code",
      "metadata": {
        "id": "xLOQTDbQJ5sK",
        "colab": {
          "base_uri": "https://localhost:8080/"
        },
        "outputId": "3af81fa7-1468-4ec5-eb48-4139b5507b9d"
      },
      "source": [
        "pip install torchmetrics"
      ],
      "execution_count": 1,
      "outputs": [
        {
          "output_type": "stream",
          "text": [
            "Requirement already satisfied: torchmetrics in /usr/local/lib/python3.7/dist-packages (0.4.1)\n",
            "Requirement already satisfied: torch>=1.3.1 in /usr/local/lib/python3.7/dist-packages (from torchmetrics) (1.9.0+cu102)\n",
            "Requirement already satisfied: numpy>=1.17.2 in /usr/local/lib/python3.7/dist-packages (from torchmetrics) (1.19.5)\n",
            "Requirement already satisfied: packaging in /usr/local/lib/python3.7/dist-packages (from torchmetrics) (20.9)\n",
            "Requirement already satisfied: typing-extensions in /usr/local/lib/python3.7/dist-packages (from torch>=1.3.1->torchmetrics) (3.7.4.3)\n",
            "Requirement already satisfied: pyparsing>=2.0.2 in /usr/local/lib/python3.7/dist-packages (from packaging->torchmetrics) (2.4.7)\n"
          ],
          "name": "stdout"
        }
      ]
    },
    {
      "cell_type": "code",
      "metadata": {
        "id": "KPYjqMtSJ1B-"
      },
      "source": [
        "from random import randint\n",
        "import numpy as np\n",
        "import pandas as pd\n",
        "import json\n",
        "import time\n",
        "import torch\n",
        "import torchmetrics\n",
        "import pandas as pd\n",
        "pd.set_option('display.float_format',lambda x: '%.5f' % x)\n",
        "np.set_printoptions(threshold=np. inf,suppress=True, precision=4)"
      ],
      "execution_count": 2,
      "outputs": []
    },
    {
      "cell_type": "code",
      "metadata": {
        "id": "bpkzznA9J1CG"
      },
      "source": [
        "'''Here we create a dataset object that allows to access the different elements of our data\n",
        "In: Arrays: image, DirectionPointing, compassMoves,FirstPersonMoves, Reward\n",
        "Out: [All inputs in a Class that is callable]\n",
        "'''\n",
        "\n",
        "class Dataset(torch.utils.data.Dataset):\n",
        "    def __init__(self, image, DirectionPointing, CompassMoves, FirstPersonMoves, y):\n",
        "        self.image = image.astype('float')\n",
        "        self.DirectionPointing = DirectionPointing.astype('float')\n",
        "        self.CompassMoves = CompassMoves.astype('float')\n",
        "        self.FirstPersonMoves = FirstPersonMoves.astype('float')        \n",
        "        self.y = y.astype('float')\n",
        "\n",
        "    # Not dependent on index+\n",
        "    def __getitem__(self, index):\n",
        "        return self.image[index],self.DirectionPointing[index],self.CompassMoves[index], self.FirstPersonMoves[index], self.y[index]\n",
        "\n",
        "    def __len__(self):\n",
        "        return len(self.y)"
      ],
      "execution_count": 3,
      "outputs": []
    },
    {
      "cell_type": "code",
      "metadata": {
        "id": "rJxUr12nJ1CH"
      },
      "source": [
        "'''\n",
        "Take our Dataset, split the data, and put them into dataloaders\n",
        "In: Dataset class, Train split, val split, batchsize\n",
        "Out: [Dictionary 1: train dataset, val dataset, test dataset\n",
        "      Dictionary 2: train dataloader, val dataloader, test dataloader \n",
        "    ]\n",
        "'''\n",
        "\n",
        "\n",
        "def DatasetsAndDataloaders(dataset, train_perc, val_perc, batch_size):\n",
        "    \n",
        "    def create_TTV_splits(train_perc, val_perc,dataset):\n",
        "        assert train_perc + val_perc < 1, 'val and train percent should add up to <1'\n",
        "        length = len(dataset)\n",
        "        trainSize = int(train_perc * length)\n",
        "        TestValSize = int(length - trainSize)\n",
        "        valSize = int(val_perc * length)\n",
        "        TestSize = int(TestValSize - valSize)\n",
        "\n",
        "        train_dataset, validation_dataset = torch.utils.data.random_split(\n",
        "            dataset, [trainSize, TestValSize])  ## split into 1000 training & 797 validation\n",
        "        validation_dataset, test_dataset  = torch.utils.data.random_split(\n",
        "            validation_dataset, [valSize, TestSize])  ## get test set from validation set\n",
        "\n",
        "        return train_dataset, validation_dataset, test_dataset\n",
        "\n",
        "    def create_dataloaders(train_dataset, validation_dataset, test_dataset, batch_size):\n",
        "        train_dataloader = torch.utils.data.DataLoader(train_dataset, batch_size=batch_size, )   ### dataloader batches the data\n",
        "        val_dataloader = torch.utils.data.DataLoader(validation_dataset, batch_size=batch_size)\n",
        "        test_dataloader = torch.utils.data.DataLoader(test_dataset, batch_size=batch_size)\n",
        "        return train_dataloader, val_dataloader, test_dataloader\n",
        "    \n",
        "    datasets, dataloaders = {}, {}\n",
        "    train_dataset, validation_dataset, test_dataset = create_TTV_splits(train_perc, val_perc, dataset)\n",
        "    train_dataloader, val_dataloader, test_dataloader = create_dataloaders(train_dataset, validation_dataset, test_dataset, batch_size)\n",
        "    \n",
        "    datasets['train'], datasets['val'], datasets['test'] = train_dataset, validation_dataset, test_dataset\n",
        "    dataloaders['train'], dataloaders['val'], dataloaders['test'] = train_dataloader, val_dataloader, test_dataloader\n",
        "    return datasets, dataloaders"
      ],
      "execution_count": 4,
      "outputs": []
    },
    {
      "cell_type": "code",
      "metadata": {
        "id": "l0nNlyrFJ1CC"
      },
      "source": [
        "'''Set of functions that convert the snake data into usable arrays\n",
        "\n",
        "In: Dictionary -----> data, ArrayMax(estimate_of_size), Reward parameters. \n",
        "Out: Image, DirectionPointing, Compassmoves, FirstPersonMoves, reward ---> Arrays\n",
        "'''\n",
        "\n",
        "######  Master Function that calls all functions below\n",
        "\n",
        "def CreateAllXYInputs(data, ArrayMax, EatReward, EatDecayRate, EatDecayPeriod, DieReward, FutureReward):\n",
        "    Images,frames =  CreateImagesAllGames(ArrayMax,data)\n",
        "    FirstPersonMoves = CreateDirectionArrayManyGames(data,ArrayMax,'FaceDirectionChoice',3)\n",
        "    CompassMoves = CreateDirectionArrayManyGames(data,ArrayMax,'CompassDirectionChoice',4)\n",
        "    DirectionPointing = CreateDirectionArrayManyGames(data,ArrayMax, 'StartingDirection',4)\n",
        "    reward = CreateBigArrayofRewardFromManyGames(data, EatReward, EatDecayRate, EatDecayPeriod, DieReward, FutureReward)\n",
        "    Images, FirstPersonMoves, reward, DirectionPointing, CompassMoves =Images[:frames], FirstPersonMoves[:frames], reward[:frames], DirectionPointing[:frames], CompassMoves[:frames]\n",
        "    return Images, DirectionPointing, CompassMoves, FirstPersonMoves, reward\n",
        "\n",
        "\n",
        "###Helper: The Dictionary keys that list the moves made are strings. To look at them sequentially we need to them to be integers\n",
        "def TurnDictKeysToInt(data,instance,dic):\n",
        "    return {int(k):v for k,v in data[instance][dic].items()}\n",
        "\n",
        "################################################################################################################ \n",
        "##\n",
        "##  Function that takes the body and food values for all games, and turns them into a 20x20x3 array \n",
        "# #\n",
        "\n",
        "def CreateImagesAllGames(ArrayMax, data):\n",
        "\n",
        "    ###Helper function that convers the body and food values for ONE game.\n",
        "\n",
        "    def CreateImageForOneGame(instance,data): ###Array Max is how big we set the initial array of all zeros, that gets populated.\n",
        "        IntegerKeysDictBody = TurnDictKeysToInt(data,instance,'body')\n",
        "        IntegerKeysDictFood = TurnDictKeysToInt(data,instance,'FoodPos')\n",
        "        plays = len(IntegerKeysDictBody)\n",
        "        image = np.zeros((plays,3,20,20))\n",
        "\n",
        "        ###Channel 1 = Tail, Channel 2 = Head, Channel 3 = Food\n",
        "        for key, value in IntegerKeysDictBody.items():\n",
        "            for idx, point in enumerate(value):\n",
        "                y = 20-point[0] ### when we 'view' our game like the snake.py, y is at the top\n",
        "                x = point[1]-1 ### In our snake game, the arrays start at 1, and go to 20. We want 0->19\n",
        "                if idx != 0:            #tail\n",
        "                    image[int(key),0,y,x] =1\n",
        "                if idx == 0:            #head\n",
        "                    image[int(key),1,y,x] =1          \n",
        "\n",
        "        for key, value in IntegerKeysDictFood.items():    #food\n",
        "            y = 20-value[0] #-1 because the stored array starts at 1, instead of 0\n",
        "            x = value[1]-1\n",
        "            image[int(key),2,y,x] =1 \n",
        "\n",
        "        return image\n",
        "    \n",
        "    AllGamesImage = np.zeros((ArrayMax,3,20,20))\n",
        "    frames_start=0 ###We need to keep a track of how many frames we have in case we use more than the size of the array we specified in array max.\n",
        "    for game in data.keys():\n",
        "        tempArray = CreateImageForOneGame(game,data) \n",
        "        frames_end = frames_start+ (len(tempArray)) #to create start and end for storing the x values\n",
        "        #if there are two many values compared to max array, we end the function there.\n",
        "        if frames_end > ArrayMax:\n",
        "            return AllGamesImage, frames_start\n",
        "        AllGamesImage[frames_start:frames_end] = tempArray\n",
        "        frames_start = frames_end #set frames start to frames end for next iteration\n",
        "    return AllGamesImage, frames_end\n",
        "\n",
        "################################################################################################################ \n",
        "##\n",
        "##  Functions that take Current Direction Faced, Compass Choice and turn them into one arrays with dummy variables\n",
        "# #\n",
        "\n",
        "####Helper function that turns integer based direction to dummy(Hot) variables\n",
        "def TurnDirectionsToHot(HotDict,Options):\n",
        "        moves = np.array(list(HotDict.values()))        \n",
        "        HotMoves = np.zeros((len(moves),Options-1))\n",
        "        for idx, move in enumerate(moves):\n",
        "          if move!=0:\n",
        "            HotMoves[idx,move-1] = 1 #if move==0, nothing is set, if move=1(right), index(0) is set etc.\n",
        "        return HotMoves\n",
        "\n",
        "def CreateDirectionArrayManyGames(data, ArrayMax, OrigDictKey, NoOfOptions):\n",
        "    frames_start = 0\n",
        "    AllGamesDirections = np.zeros((ArrayMax,NoOfOptions-1))\n",
        "    for game in data.keys():\n",
        "        IntegerKeysDictDirections = TurnDictKeysToInt(data, game, OrigDictKey)\n",
        "        tempArray = TurnDirectionsToHot(IntegerKeysDictDirections, NoOfOptions)\n",
        "        frames_end = frames_start + (len(tempArray)) #to create start and end for storing the x values\n",
        "        if frames_end > ArrayMax:\n",
        "            return AllGamesDirections\n",
        "        AllGamesDirections[frames_start:frames_end] = tempArray\n",
        "        frames_start = frames_end #set frames start to frames end for next iteration\n",
        "    return AllGamesDirections ##1+ because the first value is all 0s from when we created the np.zeros array.\n",
        "\n",
        "################################################################################################################ \n",
        "##\n",
        "##  Function that converts the list of 'current score' into a reward function\n",
        "# #\n",
        "\n",
        "def CreateBigArrayofRewardFromManyGames(data, EatReward, EatDecayRate, EatDecayPeriod, DieReward, FutureReward):\n",
        "    '''\n",
        "    Eat Reward: The reward for eating food on a particular turn\n",
        "    EatDecayRate: The decay rate of reward to previous values\n",
        "    EatDecayPeriod: How long to assign reward historically (previous steps before the step of actually eating)\n",
        "    Die Reward: The reward(negative value) for dying on a particular turn.\n",
        "    Future Reward: currently redundant\n",
        "    '''\n",
        "    ####Helper function to calculate reward for one game.\n",
        "    def reward(instance,data, EatReward,EatDecayRate, EatDecayPeriod, DieReward, FutureReward):\n",
        "        IntegerKeysDictReward = TurnDictKeysToInt(data,instance,'CurrentScore')\n",
        "        CurrentScore = np.array(list(IntegerKeysDictReward.values())).astype('float')\n",
        "  \n",
        "        ####Convert Current Score to moments of Eating food. Take [1:] slice because score is captured in the following game state\n",
        "        MovesThatCaptureFood = (CurrentScore[1:] - CurrentScore[:len(CurrentScore)-1])*EatReward\n",
        "        RewardTotal = MovesThatCaptureFood.copy()\n",
        "        for i in range(EatDecayPeriod):\n",
        "            ##Take reward from moves i in the future, and apply a powered decay rate\n",
        "            DecayedReward = np.append(MovesThatCaptureFood[i+1:],np.zeros((i+1)))*(EatDecayRate)**(i+1)\n",
        "            ##Add this Decayed Reward to the previous reward a move had\n",
        "            RewardTotal += DecayedReward\n",
        "        #so total reward is +4 for capturing food, and + 1 for all future food\n",
        "        RewardArray = np.append(RewardTotal,np.array([0])) ##append 0 because we previously just took [1:]\n",
        "        RewardArray[len(RewardArray)-1] = DieReward #sets final element in sequence to die reward\n",
        "        return RewardArray\n",
        "\n",
        "    AllGamesReward = np.zeros((1,)).astype('float')\n",
        "    for game in data.keys():\n",
        "        tempArray = reward(game, data, EatReward,EatDecayRate, EatDecayPeriod, DieReward, FutureReward)\n",
        "        AllGamesReward = np.append(AllGamesReward, tempArray, axis=0)\n",
        "    return AllGamesReward[1:].reshape(-1,1)"
      ],
      "execution_count": 5,
      "outputs": []
    },
    {
      "cell_type": "code",
      "metadata": {
        "id": "T-tbXg0VKoAh",
        "colab": {
          "resources": {
            "http://localhost:8080/nbextensions/google.colab/files.js": {
              "data": "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",
              "ok": true,
              "headers": [
                [
                  "content-type",
                  "application/javascript"
                ]
              ],
              "status": 200,
              "status_text": ""
            }
          },
          "base_uri": "https://localhost:8080/",
          "height": 72
        },
        "outputId": "ebd612d4-4bb1-41d5-840e-fc591c7ecb31"
      },
      "source": [
        " ####### Upload external file #######\n",
        "\n",
        "from google.colab import files\n",
        "uploaded = files.upload()"
      ],
      "execution_count": 58,
      "outputs": [
        {
          "output_type": "display_data",
          "data": {
            "text/html": [
              "\n",
              "     <input type=\"file\" id=\"files-b0171844-516c-4a09-b4ec-345c63249669\" name=\"files[]\" multiple disabled\n",
              "        style=\"border:none\" />\n",
              "     <output id=\"result-b0171844-516c-4a09-b4ec-345c63249669\">\n",
              "      Upload widget is only available when the cell has been executed in the\n",
              "      current browser session. Please rerun this cell to enable.\n",
              "      </output>\n",
              "      <script src=\"/nbextensions/google.colab/files.js\"></script> "
            ],
            "text/plain": [
              "<IPython.core.display.HTML object>"
            ]
          },
          "metadata": {
            "tags": []
          }
        },
        {
          "output_type": "stream",
          "text": [
            "Saving snakeLogs.json to snakeLogs (1).json\n"
          ],
          "name": "stdout"
        }
      ]
    },
    {
      "cell_type": "code",
      "metadata": {
        "id": "d4AkwK5bJ1CC"
      },
      "source": [
        "#we have a 20 by 20 matrix, with a body and a head covering 3+ squares. We can represent the head,tail and food in a 20x20x3(channels) array\n",
        "j = open('snakeLogs (1).json')\n",
        "data = json.load(j)"
      ],
      "execution_count": 6,
      "outputs": []
    },
    {
      "cell_type": "code",
      "metadata": {
        "id": "Dp102ZLOlj2K"
      },
      "source": [
        "ArrayMax = 200000\n",
        "EatReward = 3\n",
        "DieReward = -1\n",
        "FutureReward = 0\n",
        "EatDecayRate, EatDecayPeriod = 0.25, 4\n",
        "Images, DirectionPointing, CompassMoves, FirstPersonMoves, reward = CreateAllXYInputs(data, ArrayMax, EatReward, EatDecayRate, EatDecayPeriod, DieReward, FutureReward)"
      ],
      "execution_count": 71,
      "outputs": []
    },
    {
      "cell_type": "code",
      "metadata": {
        "id": "6j9vC5RVJ1CF",
        "colab": {
          "base_uri": "https://localhost:8080/"
        },
        "outputId": "85b02a33-e0a5-4577-d480-a37f433373ff"
      },
      "source": [
        "Images.shape,FirstPersonMoves.shape,reward.shape,DirectionPointing.shape,CompassMoves.shape"
      ],
      "execution_count": 72,
      "outputs": [
        {
          "output_type": "execute_result",
          "data": {
            "text/plain": [
              "((199998, 3, 20, 20), (199998, 2), (199998, 1), (199998, 3), (199998, 3))"
            ]
          },
          "metadata": {
            "tags": []
          },
          "execution_count": 72
        }
      ]
    },
    {
      "cell_type": "code",
      "metadata": {
        "id": "EJkVM2ZhzG6j"
      },
      "source": [
        "# # ### Function to check things are working\n",
        "\n",
        "# # # #0 = up, 1 = right, 2 = left\n",
        "# n,k = 190,196\n",
        "# print('reward',reward[n:k])\n",
        "# print('FirstPersonMove',FirstPersonMoves[n:k])\n",
        "# print('CompassMove',CompassMoves[n:k])\n",
        "# print('DirectionPointing',DirectionPointing[n:k])\n",
        "# for i in Images[n:k]:\n",
        "#   ConvertImageToOrigView(i)\n",
        "# print(Images[n:k]) #,(0,1,3,2))) #this puts y (which we put first, second in the printing)"
      ],
      "execution_count": 73,
      "outputs": []
    },
    {
      "cell_type": "code",
      "metadata": {
        "id": "KuZq9jUkf_eR",
        "colab": {
          "base_uri": "https://localhost:8080/"
        },
        "outputId": "8d4aaced-22c0-4336-f996-0c9c93247820"
      },
      "source": [
        "print(np.mean(reward))"
      ],
      "execution_count": 74,
      "outputs": [
        {
          "output_type": "stream",
          "text": [
            "0.024777259491344912\n"
          ],
          "name": "stdout"
        }
      ]
    },
    {
      "cell_type": "markdown",
      "metadata": {
        "id": "-3FOo_fkJ1CF"
      },
      "source": [
        "#### Overview of Variables\n",
        "----\n",
        "Trainable X (State): Body, Direction Pointining\n",
        "\n",
        "Non-trainable X (Decision): Moves\n",
        "\n",
        "Target Y: reward"
      ]
    },
    {
      "cell_type": "code",
      "metadata": {
        "id": "2G1RGrnsJ1CG"
      },
      "source": [
        "dataset = Dataset(Images, DirectionPointing, CompassMoves, FirstPersonMoves,reward)"
      ],
      "execution_count": 75,
      "outputs": []
    },
    {
      "cell_type": "code",
      "metadata": {
        "id": "stQu5-WmMeau"
      },
      "source": [
        "#clearing the RAM\n",
        "del Images\n",
        "del DirectionPointing\n",
        "del CompassMoves\n",
        "del FirstPersonMoves"
      ],
      "execution_count": 76,
      "outputs": []
    },
    {
      "cell_type": "code",
      "metadata": {
        "id": "G1vfblXaJ1CH"
      },
      "source": [
        "#note, the very large batch size here may have helped?\n",
        "BatchSize = 2000\n",
        "datasets, dataloaders = DatasetsAndDataloaders(dataset, 0.7,0.2,BatchSize)"
      ],
      "execution_count": 77,
      "outputs": []
    },
    {
      "cell_type": "code",
      "metadata": {
        "colab": {
          "base_uri": "https://localhost:8080/"
        },
        "id": "NiBo7IUqvYMl",
        "outputId": "7fb58225-606d-4bfe-8b41-1166789d1df3"
      },
      "source": [
        "'''Testing to see if we get good shapes'''\n",
        "counter = 0\n",
        "for image, starting_direction, compass_move, first_person_move, y in datasets['train']:\n",
        "    counter +=1\n",
        "    if counter > 2:\n",
        "        break\n",
        "    print(image.shape,starting_direction.shape,compass_move.shape,first_person_move.shape,y.shape)"
      ],
      "execution_count": 78,
      "outputs": [
        {
          "output_type": "stream",
          "text": [
            "(3, 20, 20) (3,) (3,) (2,) (1,)\n",
            "(3, 20, 20) (3,) (3,) (2,) (1,)\n"
          ],
          "name": "stdout"
        }
      ]
    },
    {
      "cell_type": "code",
      "metadata": {
        "id": "70ydpqDMJ1CI"
      },
      "source": [
        "'''\n",
        "In: Input, Compass Move\n",
        "\n",
        "+Image\n",
        "-----> 1x1 conv net\n",
        "-----> 8 adjacent conv nets of different sizes\n",
        "-----> Dense Layer with dropout -> 17 features\n",
        "\n",
        "+CompassMove (3 features)\n",
        "-----> Dense layer with dropout ->40 features\n",
        "-----> Final dense layer outputting predicted reward.\n",
        "'''\n",
        "\n",
        "class SnakeModel(torch.nn.Module):\n",
        "    def __init__(self,DenseFinalLayerSize):\n",
        "        super().__init__()\n",
        "        #general use\n",
        "        self.tanh = torch.nn.Tanh()\n",
        "        self.relu = torch.nn.ReLU()\n",
        "        #can we add more channels in first section?\n",
        "        #we can add 3,5,7 filters and just flatten before concatting.\n",
        "\n",
        "        ######Convolutional Layers\n",
        "        self.conv0 = torch.nn.Conv2d(3,3,kernel_size=1,stride=1,padding=(0,0)); torch.nn.init.xavier_uniform_(self.conv0.weight)\n",
        "        self.conv1 = torch.nn.Conv2d(3,4,kernel_size=2,stride=1,padding=(0,0)); torch.nn.init.xavier_uniform_(self.conv1.weight)\n",
        "        self.conv2 = torch.nn.Conv2d(3,4,kernel_size=4,stride=1,padding=(1,1)); torch.nn.init.xavier_uniform_(self.conv2.weight)\n",
        "        self.conv3 = torch.nn.Conv2d(3,4,kernel_size=6,stride=1,padding=(2,2)); torch.nn.init.xavier_uniform_(self.conv3.weight)\n",
        "        self.conv4 = torch.nn.Conv2d(3,4,kernel_size=8,stride=1,padding=(3,3)); torch.nn.init.xavier_uniform_(self.conv4.weight)\n",
        "        \n",
        "        self.flatten = torch.nn.Flatten()\n",
        "        \n",
        "        ######Dense Layers\n",
        "        self.DenseLayer1 = torch.nn.Linear(5776,DenseFinalLayerSize); torch.nn.init.xavier_uniform_(self.DenseLayer1.weight)\n",
        "        self.dropout1= torch.nn.Dropout(0.25)\n",
        "        self.DenseLayer2 = torch.nn.Linear(400,DenseFinalLayerSize); torch.nn.init.xavier_uniform_(self.DenseLayer2.weight) \n",
        "        self.FinalDenseLayer1 = torch.nn.Linear(DenseFinalLayerSize+3,40);torch.nn.init.xavier_uniform_(self.FinalDenseLayer1.weight)\n",
        "        self.dropout2= torch.nn.Dropout(0.2)\n",
        "        self.FinalDenseLayer3 = torch.nn.Linear(40,1);torch.nn.init.xavier_uniform_(self.FinalDenseLayer3.weight)        \n",
        "        \n",
        "    def forward(self,image,move): #direction removed\n",
        "        #conv layer\n",
        "        x1 = self.conv1(image)\n",
        "        x1 = self.relu(x1)\n",
        "        x2 = self.conv2(image)\n",
        "        x2 = self.relu(x2)\n",
        "        x3 = self.conv3(image)\n",
        "        x3 = self.relu(x3)\n",
        "        x4 = self.conv4(image)\n",
        "        x4 = self.relu(x4)\n",
        "        x = torch.cat((x1,x2,x3,x4),1)\n",
        "                      \n",
        "        #dense\n",
        "        x = self.flatten(x)\n",
        "        x = self.dropout1(x)\n",
        "        x = self.DenseLayer1(x)\n",
        "        x = self.tanh(x)\n",
        "\n",
        "        ###Add in Move\n",
        "        x = torch.cat((x,move),1)\n",
        "        x = self.FinalDenseLayer1(x)\n",
        "        x = self.dropout2(x)\n",
        "        x = self.relu(x)\n",
        "        x = self.FinalDenseLayer3(x)\n",
        "\n",
        "        return x"
      ],
      "execution_count": 144,
      "outputs": []
    },
    {
      "cell_type": "code",
      "metadata": {
        "id": "D_dt30CAJ1CI",
        "colab": {
          "base_uri": "https://localhost:8080/"
        },
        "outputId": "db20eaa0-e001-4e4f-fccf-a5459b8cddbd"
      },
      "source": [
        "FeaturesFromConvLayer = 17\n",
        "device = torch.device(\"cuda\" if torch.cuda.is_available() else \"cpu\") \n",
        "print(f'Device: {device}')\n",
        "\n",
        "#Create Model\n",
        "Model = SnakeModel(FeaturesFromConvLayer)\n",
        "#Set model to GPU\n",
        "Model = Model.to(device)\n",
        "#create optimizer\n",
        "optimizer = torch.optim.Adam(Model.parameters())\n",
        "#create loss metrics\n",
        "criterion = torch.nn.MSELoss()\n",
        "#create metrics(MSE & MAE)\n",
        "metrics = {}\n",
        "metrics['MSE'], metrics['MAE'] = torchmetrics.MeanSquaredError().to(device), torchmetrics.MeanAbsoluteError().to(device)"
      ],
      "execution_count": 145,
      "outputs": [
        {
          "output_type": "stream",
          "text": [
            "Device: cuda\n"
          ],
          "name": "stdout"
        }
      ]
    },
    {
      "cell_type": "code",
      "metadata": {
        "id": "ZwTZLRD7J1CJ",
        "colab": {
          "base_uri": "https://localhost:8080/"
        },
        "outputId": "b0b01023-d415-4813-aa3f-c9e519cb8ccd"
      },
      "source": [
        "# #######Testing we get the right shape from the dataloader\n",
        "# testimage, _, _, _, testy = next(iter(dataloaders['val']))\n",
        "# print(testimage.shape, testy.shape)#,testdirection.shape,testcompmove.shape\n",
        "# del testimage\n",
        "# del testy"
      ],
      "execution_count": 138,
      "outputs": [
        {
          "output_type": "stream",
          "text": [
            "torch.Size([2000, 3, 20, 20]) torch.Size([2000, 1])\n"
          ],
          "name": "stdout"
        }
      ]
    },
    {
      "cell_type": "code",
      "metadata": {
        "id": "WSZ9Ln2uJ1CJ"
      },
      "source": [
        "#we can rearrange the order of the trainepoch to put the loss and optimizer last, then create a helper function so that train and eval share things.\n",
        "def ModelOutputAndMetrics(batch, model, metrics, device, TTV='train'):\n",
        "    '''\n",
        "    In: dataloaders, the model, the metrics dict, the device & whether it's train or val\n",
        "    Out: creates output, and prints metric --> can pass output to loss/optimizer for train\n",
        "    '''\n",
        "    image, starting_direction, compass_move, first_person_move, y = batch\n",
        "    image, starting_direction, compass_move, y = image.to(device), starting_direction.to(device), compass_move.to(device), y.to(device)\n",
        "    image, starting_direction, compass_move, y = image.float(), starting_direction.float(), compass_move.float(),y.float()\n",
        "    output = model(image, compass_move)    \n",
        "    for metric in metrics.values():\n",
        "        metric(output,y)\n",
        "    return output, y\n",
        "\n",
        "def TrainEpoch(dataloaders, model, optimizer, criterion, metrics,device):\n",
        "    model.train()\n",
        "    for batch in dataloaders['train']:\n",
        "        output, y = ModelOutputAndMetrics(batch, model, metrics, device, 'train')\n",
        "        loss = criterion(output, y)\n",
        "        loss.backward()\n",
        "        optimizer.step(); optimizer.zero_grad()\n",
        "    for MetricName, metric in metrics.items():\n",
        "        met = metric.compute()\n",
        "        print(MetricName,': ', met.item())\n",
        "        metric.reset() \n",
        "\n",
        "def ValEpoch(dataloaders, model, optimizer, criterion, metrics,device):\n",
        "    model.eval()\n",
        "    with torch.no_grad():\n",
        "        for batch in dataloaders['val']:\n",
        "            output, y = ModelOutputAndMetrics(batch, model, metrics, device, 'train')\n",
        "        for MetricName, metric in metrics.items():\n",
        "            met = metric.compute()\n",
        "            if MetricName == 'MSE':\n",
        "                MSE = met\n",
        "            print(MetricName,': ', met.item())\n",
        "            metric.reset() \n",
        "                \n",
        "    return MSE"
      ],
      "execution_count": 139,
      "outputs": []
    },
    {
      "cell_type": "code",
      "metadata": {
        "id": "7j5MMae8J1CJ",
        "colab": {
          "base_uri": "https://localhost:8080/"
        },
        "outputId": "ec405e57-dfb5-402b-b9e1-572a4035efcd"
      },
      "source": [
        "MSE = float('inf')\n",
        "patience =0\n",
        "epochs =15\n",
        "for epoch in range(epochs):\n",
        "  print(f'Epoch {epoch} Train Metrics: ')\n",
        "  TrainEpoch(dataloaders, Model, optimizer, criterion, metrics,device)\n",
        "  if epoch % 3 == 0:\n",
        "    print(f'Epoch {epoch} Val Metrics: ')\n",
        "    trial_MSE = ValEpoch(dataloaders,Model,optimizer,criterion,metrics,device)\n",
        "    if trial_MSE < MSE:\n",
        "      MSE = trial_MSE\n",
        "      patience=0\n",
        "      print(patience)\n",
        "    else:\n",
        "      patience+=1\n",
        "      print(patience)\n",
        "      if patience > 1 and epoch > 2 :\n",
        "        print('early stop')\n",
        "        break"
      ],
      "execution_count": 146,
      "outputs": [
        {
          "output_type": "stream",
          "text": [
            "Epoch 0 Train Metrics: \n",
            "MSE :  0.10682223737239838\n",
            "MAE :  0.10790999233722687\n",
            "Epoch 0 Val Metrics: \n",
            "MSE :  0.09964696317911148\n",
            "MAE :  0.07506545633077621\n",
            "0\n",
            "Epoch 1 Train Metrics: \n",
            "MSE :  0.09836263209581375\n",
            "MAE :  0.08174990117549896\n",
            "Epoch 2 Train Metrics: \n",
            "MSE :  0.0951405018568039\n",
            "MAE :  0.08489764481782913\n",
            "Epoch 3 Train Metrics: \n",
            "MSE :  0.08896751701831818\n",
            "MAE :  0.09209485352039337\n",
            "Epoch 3 Val Metrics: \n",
            "MSE :  0.08182702958583832\n",
            "MAE :  0.0858367532491684\n",
            "0\n",
            "Epoch 4 Train Metrics: \n",
            "MSE :  0.07448562234640121\n",
            "MAE :  0.09418434649705887\n",
            "Epoch 5 Train Metrics: \n",
            "MSE :  0.05555934086441994\n",
            "MAE :  0.07335248589515686\n",
            "Epoch 6 Train Metrics: \n",
            "MSE :  0.04617375507950783\n",
            "MAE :  0.06039992719888687\n",
            "Epoch 6 Val Metrics: \n",
            "MSE :  0.04959045350551605\n",
            "MAE :  0.05534686893224716\n",
            "0\n",
            "Epoch 7 Train Metrics: \n",
            "MSE :  0.04047350212931633\n",
            "MAE :  0.054643817245960236\n",
            "Epoch 8 Train Metrics: \n",
            "MSE :  0.03814012184739113\n",
            "MAE :  0.051216401159763336\n",
            "Epoch 9 Train Metrics: \n",
            "MSE :  0.03419393673539162\n",
            "MAE :  0.04769192263484001\n",
            "Epoch 9 Val Metrics: \n",
            "MSE :  0.04897436127066612\n",
            "MAE :  0.0492243692278862\n",
            "0\n",
            "Epoch 10 Train Metrics: \n",
            "MSE :  0.032161228358745575\n",
            "MAE :  0.04590568691492081\n",
            "Epoch 11 Train Metrics: \n",
            "MSE :  0.02982025407254696\n",
            "MAE :  0.043691810220479965\n",
            "Epoch 12 Train Metrics: \n",
            "MSE :  0.02688317373394966\n",
            "MAE :  0.04155301675200462\n",
            "Epoch 12 Val Metrics: \n",
            "MSE :  0.04678501933813095\n",
            "MAE :  0.04298460856080055\n",
            "0\n",
            "Epoch 13 Train Metrics: \n",
            "MSE :  0.02557992935180664\n",
            "MAE :  0.04005064815282822\n",
            "Epoch 14 Train Metrics: \n",
            "MSE :  0.02357415109872818\n",
            "MAE :  0.038183536380529404\n"
          ],
          "name": "stdout"
        }
      ]
    },
    {
      "cell_type": "code",
      "metadata": {
        "id": "37Dn2JzfWmlR",
        "colab": {
          "base_uri": "https://localhost:8080/"
        },
        "outputId": "a1d5a771-e999-40e1-c333-546682fbc46b"
      },
      "source": [
        "##############################################\n",
        "#\n",
        "#\n",
        "##### Functions to help us check the model is working\n",
        "\n",
        "def return_available_directions(current_dir_array):\n",
        "  '''\n",
        "  In: current direcetion\n",
        "  Out: Available directions for the snake to go next\n",
        "  '''\n",
        "  ###extract current distance in 0,1,2,3 dialect\n",
        "  if np.any(current_dir_array) !=  0:\n",
        "    current_dir = np.argmax(current_dir_array)+1\n",
        "  else:\n",
        "    current_dir = 0\n",
        "\n",
        "  if current_dir == 0:\n",
        "    return [0,1,3]\n",
        "  elif current_dir ==1:\n",
        "    return [0,1,2]\n",
        "  elif current_dir == 2:\n",
        "    return [1,2,3]\n",
        "  else:\n",
        "    return [0,2,3]\n",
        "\n",
        "##Checking function by inputting \"Up\"\n",
        "print(f'Up returns: {return_available_directions(np.array([0,0,0]))}\\nDown Returns:{return_available_directions(np.array([0,1,0]))}')\n",
        "\n",
        "\n",
        "def ConvertImageToOrigView(image):\n",
        "  '''\n",
        "  In: Image in 3x20x20 form\n",
        "  Output: List of coordinates for tail, head, body\n",
        "  '''\n",
        "\n",
        "  TailList, HeadList, FoodList = [], [], []\n",
        "  def ConvertOneFrame(BlankList, image,idx):\n",
        "    for rowidx, row in enumerate(image[idx,:,:]): \n",
        "      for colidx, col in enumerate(row):\n",
        "        if col == 1:\n",
        "          y = 20-rowidx\n",
        "          x = colidx+1\n",
        "          BlankList.append([y,x])\n",
        "    return BlankList\n",
        "  TaiList = ConvertOneFrame(TailList,image,0)\n",
        "  HeadList = ConvertOneFrame(HeadList,image,1)\n",
        "  FoodList = ConvertOneFrame(FoodList,image,2)\n",
        "  print(f'Tail: {TailList},Head: {HeadList},Food: {FoodList}')\n",
        "  return \n",
        "\n",
        "####Testing this function\n",
        "print(f'Test for image conversion:')\n",
        "ConvertImageToOrigView(images[0])"
      ],
      "execution_count": 128,
      "outputs": [
        {
          "output_type": "stream",
          "text": [
            "Up returns: [0, 1, 3]\n",
            "Down Returns:[1, 2, 3]\n",
            "Test for image conversion:\n",
            "Tail: [[10, 14], [10, 15]],Head: [[9, 15]],Food: [[7, 14]]\n"
          ],
          "name": "stdout"
        }
      ]
    },
    {
      "cell_type": "code",
      "metadata": {
        "id": "16pZaWYxJ1CJ"
      },
      "source": [
        "########\n",
        "#\n",
        "#Take one batch of the data and test three different direction choices\n",
        "\n",
        "@torch.no_grad()\n",
        "def MakePrediction(dataloaders, model, TTV):\n",
        "  '''\n",
        "  In: dataloaders, train/test/val and the model\n",
        "  Out: An array with the predicted reward for each different direction the snake could choose for each example (excluding unavailable direction based on starting direction)\n",
        "  '''  \n",
        "  model.eval()\n",
        "  #Get the image and starting direction as we need it.\n",
        "  images, starting_directions, compass_move, first_person_move, reward = next(iter(dataloaders[TTV]))\n",
        "  images,starting_directions = images.to(device), starting_directions.to(device)\n",
        "  images, starting_directions = images.float(), starting_directions.float()\n",
        "  \n",
        "  #Create an array with 4 options, and the length of the batch\n",
        "  ArrayToStoreChoices = np.zeros((len(starting_directions),4))+1e-9\n",
        "\n",
        "  \n",
        "  for idx, (image, starting_direction) in enumerate(zip(images, starting_directions)):\n",
        "    #Get the options we want to test, based on starting direction\n",
        "    available_choices = return_available_directions(starting_direction.cpu().numpy())\n",
        "    #Reshape the image and starting direction to add a first dimension to match the model shape\n",
        "    image, starting_direction = torch.reshape(image,(1,3,20,20)).to(device), torch.reshape(starting_direction,(1,3)).to(device)\n",
        "\n",
        "    #Iterate through available options, run the model, and store in the relevant idx of the array\n",
        "    for move in available_choices:\n",
        "      #this 'one hots' the move\n",
        "      test_move = torch.zeros(1,3).to(device)\n",
        "      if move!=0:\n",
        "         test_move[0,move-1] = 1\n",
        "      prediction=model(image, test_move).cpu().detach().numpy()[0][0] #remove from gpu, detach from grads, make it a numpy and take the values!\n",
        "      ArrayToStoreChoices[idx,move] = prediction\n",
        "  return ArrayToStoreChoices, images\n",
        "\n",
        "def GetSummaryStats(ChoiceValues):\n",
        "  print(f'Means: Up, Right, Down, Left: {np.mean(ChoiceValues,axis=0)}')\n",
        "  print(f'Average Range: {np.mean(np.max(ChoiceValues,axis=1)-np.min(ChoiceValues,axis=1))}')\n",
        "  Picks = np.argmax(ChoiceValues,axis=-1)\n",
        "  a , b = (np.unique(Picks, return_counts=True))\n",
        "  print(f'Number of wins: Up, Right, Down, Left: {b}')"
      ],
      "execution_count": 129,
      "outputs": []
    },
    {
      "cell_type": "code",
      "metadata": {
        "id": "psn0cfvJAwAk"
      },
      "source": [
        "ChoiceValues, images = MakePrediction(dataloaders,Model,'val')"
      ],
      "execution_count": 147,
      "outputs": []
    },
    {
      "cell_type": "code",
      "metadata": {
        "id": "-lL2YUqJa7Ih",
        "colab": {
          "base_uri": "https://localhost:8080/"
        },
        "outputId": "99abd7fc-8936-4895-fee4-cff6f3db2099"
      },
      "source": [
        "GetSummaryStats(ChoiceValues)"
      ],
      "execution_count": 148,
      "outputs": [
        {
          "output_type": "stream",
          "text": [
            "Means: Up, Right, Down, Left: [0.0166 0.0097 0.0108 0.0151]\n",
            "Average Range: 0.08040565894304127\n",
            "Number of wins: Up, Right, Down, Left: [1091   56  599  254]\n"
          ],
          "name": "stdout"
        }
      ]
    },
    {
      "cell_type": "code",
      "metadata": {
        "colab": {
          "base_uri": "https://localhost:8080/",
          "height": 987
        },
        "id": "Aexytlvz_5tm",
        "outputId": "f66cbfec-0e21-4a45-97b2-8cccb5560ca4"
      },
      "source": [
        "'''This returns the output of the choice values for values with a high threshold, and the place the snake was at the time'''\n",
        "\n",
        "#create df\n",
        "DFChoiceValues = pd.DataFrame(ChoiceValues)\n",
        "DFChoiceValues['max'] = DFChoiceValues.max(axis=1)\n",
        "DFChoiceValues['min'] = DFChoiceValues.min(axis=1)\n",
        "\n",
        "#get mean and std\n",
        "ChoiceValFlat = ChoiceValues.flatten()\n",
        "mean, std = np.mean(ChoiceValFlat), np.std(ChoiceValFlat)\n",
        "upperThresh = mean+2.2*std\n",
        "lowerThresh= mean - 2.2*std\n",
        "#just get high and low values\n",
        "HighLowValRows = DFChoiceValues[(DFChoiceValues['max'] > upperThresh)] #| (DFChoiceValues['min'] < lowerThresh)]\n",
        "RowsToLookAt = HighLowValRows.index.tolist()\n",
        "for row in RowsToLookAt[:10]:\n",
        "  display(pd.DataFrame(DFChoiceValues.loc[row]).T.rename(columns={0:\"Up\",1:\"Right\",2:\"Down\",3:\"Left\"}))\n",
        "  print(ConvertImageToOrigView(images[row]))"
      ],
      "execution_count": 149,
      "outputs": [
        {
          "output_type": "display_data",
          "data": {
            "text/html": [
              "<div>\n",
              "<style scoped>\n",
              "    .dataframe tbody tr th:only-of-type {\n",
              "        vertical-align: middle;\n",
              "    }\n",
              "\n",
              "    .dataframe tbody tr th {\n",
              "        vertical-align: top;\n",
              "    }\n",
              "\n",
              "    .dataframe thead th {\n",
              "        text-align: right;\n",
              "    }\n",
              "</style>\n",
              "<table border=\"1\" class=\"dataframe\">\n",
              "  <thead>\n",
              "    <tr style=\"text-align: right;\">\n",
              "      <th></th>\n",
              "      <th>Up</th>\n",
              "      <th>Right</th>\n",
              "      <th>Down</th>\n",
              "      <th>Left</th>\n",
              "      <th>max</th>\n",
              "      <th>min</th>\n",
              "    </tr>\n",
              "  </thead>\n",
              "  <tbody>\n",
              "    <tr>\n",
              "      <th>35</th>\n",
              "      <td>1.21314</td>\n",
              "      <td>0.95328</td>\n",
              "      <td>1.72631</td>\n",
              "      <td>0.00000</td>\n",
              "      <td>1.72631</td>\n",
              "      <td>0.00000</td>\n",
              "    </tr>\n",
              "  </tbody>\n",
              "</table>\n",
              "</div>"
            ],
            "text/plain": [
              "        Up   Right    Down    Left     max     min\n",
              "35 1.21314 0.95328 1.72631 0.00000 1.72631 0.00000"
            ]
          },
          "metadata": {
            "tags": []
          }
        },
        {
          "output_type": "stream",
          "text": [
            "Tail: [[10, 11], [9, 11]],Head: [[9, 12]],Food: [[8, 12]]\n",
            "None\n"
          ],
          "name": "stdout"
        },
        {
          "output_type": "display_data",
          "data": {
            "text/html": [
              "<div>\n",
              "<style scoped>\n",
              "    .dataframe tbody tr th:only-of-type {\n",
              "        vertical-align: middle;\n",
              "    }\n",
              "\n",
              "    .dataframe tbody tr th {\n",
              "        vertical-align: top;\n",
              "    }\n",
              "\n",
              "    .dataframe thead th {\n",
              "        text-align: right;\n",
              "    }\n",
              "</style>\n",
              "<table border=\"1\" class=\"dataframe\">\n",
              "  <thead>\n",
              "    <tr style=\"text-align: right;\">\n",
              "      <th></th>\n",
              "      <th>Up</th>\n",
              "      <th>Right</th>\n",
              "      <th>Down</th>\n",
              "      <th>Left</th>\n",
              "      <th>max</th>\n",
              "      <th>min</th>\n",
              "    </tr>\n",
              "  </thead>\n",
              "  <tbody>\n",
              "    <tr>\n",
              "      <th>138</th>\n",
              "      <td>0.18928</td>\n",
              "      <td>0.20135</td>\n",
              "      <td>0.45660</td>\n",
              "      <td>0.00000</td>\n",
              "      <td>0.45660</td>\n",
              "      <td>0.00000</td>\n",
              "    </tr>\n",
              "  </tbody>\n",
              "</table>\n",
              "</div>"
            ],
            "text/plain": [
              "         Up   Right    Down    Left     max     min\n",
              "138 0.18928 0.20135 0.45660 0.00000 0.45660 0.00000"
            ]
          },
          "metadata": {
            "tags": []
          }
        },
        {
          "output_type": "stream",
          "text": [
            "Tail: [[11, 11], [10, 11]],Head: [[11, 12]],Food: [[9, 12]]\n",
            "None\n"
          ],
          "name": "stdout"
        },
        {
          "output_type": "display_data",
          "data": {
            "text/html": [
              "<div>\n",
              "<style scoped>\n",
              "    .dataframe tbody tr th:only-of-type {\n",
              "        vertical-align: middle;\n",
              "    }\n",
              "\n",
              "    .dataframe tbody tr th {\n",
              "        vertical-align: top;\n",
              "    }\n",
              "\n",
              "    .dataframe thead th {\n",
              "        text-align: right;\n",
              "    }\n",
              "</style>\n",
              "<table border=\"1\" class=\"dataframe\">\n",
              "  <thead>\n",
              "    <tr style=\"text-align: right;\">\n",
              "      <th></th>\n",
              "      <th>Up</th>\n",
              "      <th>Right</th>\n",
              "      <th>Down</th>\n",
              "      <th>Left</th>\n",
              "      <th>max</th>\n",
              "      <th>min</th>\n",
              "    </tr>\n",
              "  </thead>\n",
              "  <tbody>\n",
              "    <tr>\n",
              "      <th>155</th>\n",
              "      <td>0.00000</td>\n",
              "      <td>0.80545</td>\n",
              "      <td>1.29466</td>\n",
              "      <td>0.89007</td>\n",
              "      <td>1.29466</td>\n",
              "      <td>0.00000</td>\n",
              "    </tr>\n",
              "  </tbody>\n",
              "</table>\n",
              "</div>"
            ],
            "text/plain": [
              "         Up   Right    Down    Left     max     min\n",
              "155 0.00000 0.80545 1.29466 0.89007 1.29466 0.00000"
            ]
          },
          "metadata": {
            "tags": []
          }
        },
        {
          "output_type": "stream",
          "text": [
            "Tail: [[4, 3], [3, 3]],Head: [[2, 3]],Food: [[2, 2]]\n",
            "None\n"
          ],
          "name": "stdout"
        },
        {
          "output_type": "display_data",
          "data": {
            "text/html": [
              "<div>\n",
              "<style scoped>\n",
              "    .dataframe tbody tr th:only-of-type {\n",
              "        vertical-align: middle;\n",
              "    }\n",
              "\n",
              "    .dataframe tbody tr th {\n",
              "        vertical-align: top;\n",
              "    }\n",
              "\n",
              "    .dataframe thead th {\n",
              "        text-align: right;\n",
              "    }\n",
              "</style>\n",
              "<table border=\"1\" class=\"dataframe\">\n",
              "  <thead>\n",
              "    <tr style=\"text-align: right;\">\n",
              "      <th></th>\n",
              "      <th>Up</th>\n",
              "      <th>Right</th>\n",
              "      <th>Down</th>\n",
              "      <th>Left</th>\n",
              "      <th>max</th>\n",
              "      <th>min</th>\n",
              "    </tr>\n",
              "  </thead>\n",
              "  <tbody>\n",
              "    <tr>\n",
              "      <th>186</th>\n",
              "      <td>0.13871</td>\n",
              "      <td>0.00000</td>\n",
              "      <td>0.52870</td>\n",
              "      <td>0.07346</td>\n",
              "      <td>0.52870</td>\n",
              "      <td>0.00000</td>\n",
              "    </tr>\n",
              "  </tbody>\n",
              "</table>\n",
              "</div>"
            ],
            "text/plain": [
              "         Up   Right    Down    Left     max     min\n",
              "186 0.13871 0.00000 0.52870 0.07346 0.52870 0.00000"
            ]
          },
          "metadata": {
            "tags": []
          }
        },
        {
          "output_type": "stream",
          "text": [
            "Tail: [[4, 9], [3, 9]],Head: [[3, 8]],Food: [[2, 9]]\n",
            "None\n"
          ],
          "name": "stdout"
        },
        {
          "output_type": "display_data",
          "data": {
            "text/html": [
              "<div>\n",
              "<style scoped>\n",
              "    .dataframe tbody tr th:only-of-type {\n",
              "        vertical-align: middle;\n",
              "    }\n",
              "\n",
              "    .dataframe tbody tr th {\n",
              "        vertical-align: top;\n",
              "    }\n",
              "\n",
              "    .dataframe thead th {\n",
              "        text-align: right;\n",
              "    }\n",
              "</style>\n",
              "<table border=\"1\" class=\"dataframe\">\n",
              "  <thead>\n",
              "    <tr style=\"text-align: right;\">\n",
              "      <th></th>\n",
              "      <th>Up</th>\n",
              "      <th>Right</th>\n",
              "      <th>Down</th>\n",
              "      <th>Left</th>\n",
              "      <th>max</th>\n",
              "      <th>min</th>\n",
              "    </tr>\n",
              "  </thead>\n",
              "  <tbody>\n",
              "    <tr>\n",
              "      <th>214</th>\n",
              "      <td>0.98582</td>\n",
              "      <td>0.93462</td>\n",
              "      <td>0.00000</td>\n",
              "      <td>0.53159</td>\n",
              "      <td>0.98582</td>\n",
              "      <td>0.00000</td>\n",
              "    </tr>\n",
              "  </tbody>\n",
              "</table>\n",
              "</div>"
            ],
            "text/plain": [
              "         Up   Right    Down    Left     max     min\n",
              "214 0.98582 0.93462 0.00000 0.53159 0.98582 0.00000"
            ]
          },
          "metadata": {
            "tags": []
          }
        },
        {
          "output_type": "stream",
          "text": [
            "Tail: [[10, 12], [10, 13]],Head: [[11, 13]],Food: [[11, 14]]\n",
            "None\n"
          ],
          "name": "stdout"
        },
        {
          "output_type": "display_data",
          "data": {
            "text/html": [
              "<div>\n",
              "<style scoped>\n",
              "    .dataframe tbody tr th:only-of-type {\n",
              "        vertical-align: middle;\n",
              "    }\n",
              "\n",
              "    .dataframe tbody tr th {\n",
              "        vertical-align: top;\n",
              "    }\n",
              "\n",
              "    .dataframe thead th {\n",
              "        text-align: right;\n",
              "    }\n",
              "</style>\n",
              "<table border=\"1\" class=\"dataframe\">\n",
              "  <thead>\n",
              "    <tr style=\"text-align: right;\">\n",
              "      <th></th>\n",
              "      <th>Up</th>\n",
              "      <th>Right</th>\n",
              "      <th>Down</th>\n",
              "      <th>Left</th>\n",
              "      <th>max</th>\n",
              "      <th>min</th>\n",
              "    </tr>\n",
              "  </thead>\n",
              "  <tbody>\n",
              "    <tr>\n",
              "      <th>322</th>\n",
              "      <td>1.66172</td>\n",
              "      <td>1.98835</td>\n",
              "      <td>0.47579</td>\n",
              "      <td>0.00000</td>\n",
              "      <td>1.98835</td>\n",
              "      <td>0.00000</td>\n",
              "    </tr>\n",
              "  </tbody>\n",
              "</table>\n",
              "</div>"
            ],
            "text/plain": [
              "         Up   Right    Down    Left     max     min\n",
              "322 1.66172 1.98835 0.47579 0.00000 1.98835 0.00000"
            ]
          },
          "metadata": {
            "tags": []
          }
        },
        {
          "output_type": "stream",
          "text": [
            "Tail: [[7, 11], [6, 11]],Head: [[6, 12]],Food: [[6, 13]]\n",
            "None\n"
          ],
          "name": "stdout"
        },
        {
          "output_type": "display_data",
          "data": {
            "text/html": [
              "<div>\n",
              "<style scoped>\n",
              "    .dataframe tbody tr th:only-of-type {\n",
              "        vertical-align: middle;\n",
              "    }\n",
              "\n",
              "    .dataframe tbody tr th {\n",
              "        vertical-align: top;\n",
              "    }\n",
              "\n",
              "    .dataframe thead th {\n",
              "        text-align: right;\n",
              "    }\n",
              "</style>\n",
              "<table border=\"1\" class=\"dataframe\">\n",
              "  <thead>\n",
              "    <tr style=\"text-align: right;\">\n",
              "      <th></th>\n",
              "      <th>Up</th>\n",
              "      <th>Right</th>\n",
              "      <th>Down</th>\n",
              "      <th>Left</th>\n",
              "      <th>max</th>\n",
              "      <th>min</th>\n",
              "    </tr>\n",
              "  </thead>\n",
              "  <tbody>\n",
              "    <tr>\n",
              "      <th>348</th>\n",
              "      <td>0.00000</td>\n",
              "      <td>1.62125</td>\n",
              "      <td>1.56404</td>\n",
              "      <td>1.73885</td>\n",
              "      <td>1.73885</td>\n",
              "      <td>0.00000</td>\n",
              "    </tr>\n",
              "  </tbody>\n",
              "</table>\n",
              "</div>"
            ],
            "text/plain": [
              "         Up   Right    Down    Left     max     min\n",
              "348 0.00000 1.62125 1.56404 1.73885 1.73885 0.00000"
            ]
          },
          "metadata": {
            "tags": []
          }
        },
        {
          "output_type": "stream",
          "text": [
            "Tail: [[11, 16], [10, 16]],Head: [[9, 16]],Food: [[8, 16]]\n",
            "None\n"
          ],
          "name": "stdout"
        },
        {
          "output_type": "display_data",
          "data": {
            "text/html": [
              "<div>\n",
              "<style scoped>\n",
              "    .dataframe tbody tr th:only-of-type {\n",
              "        vertical-align: middle;\n",
              "    }\n",
              "\n",
              "    .dataframe tbody tr th {\n",
              "        vertical-align: top;\n",
              "    }\n",
              "\n",
              "    .dataframe thead th {\n",
              "        text-align: right;\n",
              "    }\n",
              "</style>\n",
              "<table border=\"1\" class=\"dataframe\">\n",
              "  <thead>\n",
              "    <tr style=\"text-align: right;\">\n",
              "      <th></th>\n",
              "      <th>Up</th>\n",
              "      <th>Right</th>\n",
              "      <th>Down</th>\n",
              "      <th>Left</th>\n",
              "      <th>max</th>\n",
              "      <th>min</th>\n",
              "    </tr>\n",
              "  </thead>\n",
              "  <tbody>\n",
              "    <tr>\n",
              "      <th>402</th>\n",
              "      <td>1.13388</td>\n",
              "      <td>0.60886</td>\n",
              "      <td>0.00000</td>\n",
              "      <td>0.95070</td>\n",
              "      <td>1.13388</td>\n",
              "      <td>0.00000</td>\n",
              "    </tr>\n",
              "  </tbody>\n",
              "</table>\n",
              "</div>"
            ],
            "text/plain": [
              "         Up   Right    Down    Left     max     min\n",
              "402 1.13388 0.60886 0.00000 0.95070 1.13388 0.00000"
            ]
          },
          "metadata": {
            "tags": []
          }
        },
        {
          "output_type": "stream",
          "text": [
            "Tail: [[7, 7], [7, 8]],Head: [[8, 8]],Food: [[9, 8]]\n",
            "None\n"
          ],
          "name": "stdout"
        },
        {
          "output_type": "display_data",
          "data": {
            "text/html": [
              "<div>\n",
              "<style scoped>\n",
              "    .dataframe tbody tr th:only-of-type {\n",
              "        vertical-align: middle;\n",
              "    }\n",
              "\n",
              "    .dataframe tbody tr th {\n",
              "        vertical-align: top;\n",
              "    }\n",
              "\n",
              "    .dataframe thead th {\n",
              "        text-align: right;\n",
              "    }\n",
              "</style>\n",
              "<table border=\"1\" class=\"dataframe\">\n",
              "  <thead>\n",
              "    <tr style=\"text-align: right;\">\n",
              "      <th></th>\n",
              "      <th>Up</th>\n",
              "      <th>Right</th>\n",
              "      <th>Down</th>\n",
              "      <th>Left</th>\n",
              "      <th>max</th>\n",
              "      <th>min</th>\n",
              "    </tr>\n",
              "  </thead>\n",
              "  <tbody>\n",
              "    <tr>\n",
              "      <th>428</th>\n",
              "      <td>0.00000</td>\n",
              "      <td>1.61904</td>\n",
              "      <td>1.19948</td>\n",
              "      <td>2.08447</td>\n",
              "      <td>2.08447</td>\n",
              "      <td>0.00000</td>\n",
              "    </tr>\n",
              "  </tbody>\n",
              "</table>\n",
              "</div>"
            ],
            "text/plain": [
              "         Up   Right    Down    Left     max     min\n",
              "428 0.00000 1.61904 1.19948 2.08447 2.08447 0.00000"
            ]
          },
          "metadata": {
            "tags": []
          }
        },
        {
          "output_type": "stream",
          "text": [
            "Tail: [[4, 15], [3, 15]],Head: [[2, 15]],Food: [[2, 14]]\n",
            "None\n"
          ],
          "name": "stdout"
        },
        {
          "output_type": "display_data",
          "data": {
            "text/html": [
              "<div>\n",
              "<style scoped>\n",
              "    .dataframe tbody tr th:only-of-type {\n",
              "        vertical-align: middle;\n",
              "    }\n",
              "\n",
              "    .dataframe tbody tr th {\n",
              "        vertical-align: top;\n",
              "    }\n",
              "\n",
              "    .dataframe thead th {\n",
              "        text-align: right;\n",
              "    }\n",
              "</style>\n",
              "<table border=\"1\" class=\"dataframe\">\n",
              "  <thead>\n",
              "    <tr style=\"text-align: right;\">\n",
              "      <th></th>\n",
              "      <th>Up</th>\n",
              "      <th>Right</th>\n",
              "      <th>Down</th>\n",
              "      <th>Left</th>\n",
              "      <th>max</th>\n",
              "      <th>min</th>\n",
              "    </tr>\n",
              "  </thead>\n",
              "  <tbody>\n",
              "    <tr>\n",
              "      <th>462</th>\n",
              "      <td>0.00000</td>\n",
              "      <td>1.72798</td>\n",
              "      <td>1.05263</td>\n",
              "      <td>2.17360</td>\n",
              "      <td>2.17360</td>\n",
              "      <td>0.00000</td>\n",
              "    </tr>\n",
              "  </tbody>\n",
              "</table>\n",
              "</div>"
            ],
            "text/plain": [
              "         Up   Right    Down    Left     max     min\n",
              "462 0.00000 1.72798 1.05263 2.17360 2.17360 0.00000"
            ]
          },
          "metadata": {
            "tags": []
          }
        },
        {
          "output_type": "stream",
          "text": [
            "Tail: [[12, 14], [11, 14]],Head: [[10, 14]],Food: [[10, 13]]\n",
            "None\n"
          ],
          "name": "stdout"
        }
      ]
    },
    {
      "cell_type": "code",
      "metadata": {
        "id": "vsSHXuAjPMb2"
      },
      "source": [
        "###################################################################\n",
        "#\n",
        "#\n",
        "#\n",
        "######For use in .py file: one set of data in format given by .py file.\n",
        "'''\n",
        "in: list for tail (N x 2), list for head(1x2), list for food(1x2), value for starting direction(integer)\n",
        "function: input this to model, and output rewards\n",
        "out: using either tiny epsilon or softmax, make choice.\n",
        "'''\n",
        "#Turn tail, head, food into 1,3,20,20 array\n",
        "def CreateOneMoveModelInputs(tail, head, food, starting_direction):\n",
        "  one_im_array = torch.zeros((1,3,20,20)).to(device)\n",
        "\n",
        "  for idx, point in enumerate(tail):\n",
        "    y = 20-point[0] ### when we 'view' our game like the snake.py, y is at the top\n",
        "    x = point[1]-1 ### In our snake game, the arrays start at 1, and go to 20. We want 0->19\n",
        "    one_im_array[0,0,y,x] =1\n",
        "  y = 20-head[0]\n",
        "  x = head[1]-1\n",
        "  one_im_array[0,1,y,x] = 1\n",
        "  y = 20-food[0]\n",
        "  x = food[1]-1\n",
        "  one_im_array[0,2,y,x] = 1\n",
        "  available_choices = return_available_directions(starting_direction)\n",
        "  return one_im_array, available_choices\n",
        "\n",
        "def CreateRewardEst(image, available_choices,model):\n",
        "  ArrayToStoreEsts = torch.zeros((1,4))-1e9  ###create one hot version of the move\n",
        "  for move in available_choices:\n",
        "    test_move = torch.zeros(1,3).to(device)\n",
        "    if move!=0:\n",
        "      test_move[0,move-1] = 1\n",
        "    #run the move and get a predicted reward\n",
        "    prediction=model(image, test_move)[0]\n",
        "    ArrayToStoreEsts[0,move] = prediction\n",
        "    Probabilities=torch.nn.Softmax(dim=1)(ArrayToStoreEsts)\n",
        "  return ArrayToStoreEsts, Probabilities"
      ],
      "execution_count": 113,
      "outputs": []
    },
    {
      "cell_type": "code",
      "metadata": {
        "colab": {
          "base_uri": "https://localhost:8080/"
        },
        "id": "vdDLzhq0SIm6",
        "outputId": "861e0595-7ede-4a2a-8caa-2766bd8bb2cc"
      },
      "source": [
        "##SampleInputelements\n",
        "tail = [[4,10],[3,10]]\n",
        "head = [5,10]\n",
        "food = [20,11]\n",
        "starting_direction = 0\n",
        "\n",
        "timage, tavailablechoices = CreateOneMoveModelInputs(tail, head, food, starting_direction)\n",
        "logits, probas = CreateRewardEst(timage, tavailablechoices,Model)\n",
        "print(logits)\n",
        "print(probas)"
      ],
      "execution_count": 157,
      "outputs": [
        {
          "output_type": "stream",
          "text": [
            "tensor([[ 3.8191e-01,  6.9806e-01, -1.0000e+09,  8.5331e-01]],\n",
            "       grad_fn=<CopySlices>)\n",
            "tensor([[0.2516, 0.3452, 0.0000, 0.4032]], grad_fn=<SoftmaxBackward>)\n"
          ],
          "name": "stdout"
        }
      ]
    },
    {
      "cell_type": "code",
      "metadata": {
        "colab": {
          "base_uri": "https://localhost:8080/",
          "height": 164
        },
        "id": "HMnkF4jDWi1O",
        "outputId": "93383307-30cf-49e1-826a-165311663d33"
      },
      "source": [
        "pro"
      ],
      "execution_count": 151,
      "outputs": [
        {
          "output_type": "error",
          "ename": "NameError",
          "evalue": "ignored",
          "traceback": [
            "\u001b[0;31m---------------------------------------------------------------------------\u001b[0m",
            "\u001b[0;31mNameError\u001b[0m                                 Traceback (most recent call last)",
            "\u001b[0;32m<ipython-input-151-c3eb10506861>\u001b[0m in \u001b[0;36m<module>\u001b[0;34m()\u001b[0m\n\u001b[0;32m----> 1\u001b[0;31m \u001b[0mpro\u001b[0m\u001b[0;34m\u001b[0m\u001b[0;34m\u001b[0m\u001b[0m\n\u001b[0m",
            "\u001b[0;31mNameError\u001b[0m: name 'pro' is not defined"
          ]
        }
      ]
    },
    {
      "cell_type": "markdown",
      "metadata": {
        "id": "yj9FKcJeIj66"
      },
      "source": [
        "Old Code"
      ]
    },
    {
      "cell_type": "code",
      "metadata": {
        "id": "mEXvB9PqIkjm"
      },
      "source": [
        "def CreateImagesAllGamesONEFRAME(array_max, data):\n",
        "  \n",
        "      def CreateImageForOneGameOneFrame(array_max, instance,data): #instance x 20x20 (two arrays)\n",
        "          ThisDictBody = TurnDictKeysToInt(data,instance,'body')\n",
        "          ThisDictFood = TurnDictKeysToInt(data,instance,'FoodPos')\n",
        "          plays = len(ThisDictBody)\n",
        "          image = np.zeros((plays,1,20,20))\n",
        "\n",
        "          for key, value in ThisDictBody.items():\n",
        "              for idx, point in enumerate(value):\n",
        "                  y = 20-point[0] #-1 because the stored array starts at 1, instead of 0\n",
        "                  x = point[1]-1\n",
        "                  if idx != 0:            #tail\n",
        "                      image[int(key),0,y,x] = -1\n",
        "                  if idx == 0:            #head\n",
        "                      image[int(key),0,y,x] =1         \n",
        "\n",
        "          for key, value in ThisDictFood.items():    #food\n",
        "              y = 20-value[0] #-1 because the stored array starts at 1, instead of 0\n",
        "              x = value[1]-1\n",
        "              image[int(key),0,y,x] = 10\n",
        "\n",
        "          return image\n",
        "        \n",
        "      AllGamesImage = np.zeros((array_max,1,20,20))\n",
        "      frames_start=0\n",
        "      for game in data.keys():\n",
        "          tempArray = CreateImageForOneGameOneFrame(array_max, game,data) \n",
        "          frames_end = frames_start+ (len(tempArray)) #to create start and end for storing the x values\n",
        "          #if there are two many values compared to max array\n",
        "          if frames_end > array_max:\n",
        "              return AllGamesImage, frames_start\n",
        "              print('error here')\n",
        "          AllGamesImage[frames_start:frames_end] = tempArray\n",
        "          frames_start = frames_end #set frames start to frames end for next iteration\n",
        "      print(AllGamesImage.shape,'imageshapewhenreturning')\n",
        "      print(frames_end)\n",
        "      return AllGamesImage, frames_end"
      ],
      "execution_count": null,
      "outputs": []
    },
    {
      "cell_type": "code",
      "metadata": {
        "id": "v8iSBLXTtI5D"
      },
      "source": [
        "# EatReward = 3\n",
        "# DieReward = -1\n",
        "# FutureReward = 0\n",
        "# DecayRate, period = 0.25, 3\n",
        "\n",
        "# TimerStart = time.time()\n",
        "\n",
        "# Images,frames =  CreateImagesAllGamesMANYFRAMES(150000,data)\n",
        "\n",
        "# FirstPersonMoves = CreateDirectionArrayManyGames(data,'FaceDirectionChoice',3)\n",
        "# CompassMoves = CreateDirectionArrayManyGames(data,'CompassDirectionChoice',4)\n",
        "# DirectionPointing = CreateDirectionArrayManyGames(data,'StartingDirection',4)\n",
        "\n",
        "# reward = CreateBigArrayofRewardFromManyGames(data,EatReward,DieReward, FutureReward, DecayRate, period)\n",
        "# Images, FirstPersonMoves, reward, DirectionPointing, CompassMoves =Images[:frames], FirstPersonMoves[:frames], reward[:frames], DirectionPointing[:frames], CompassMoves[:frames]\n",
        "# print(f'Time Taken: {int(time.time()-TimerStart)}')"
      ],
      "execution_count": null,
      "outputs": []
    }
  ]
}